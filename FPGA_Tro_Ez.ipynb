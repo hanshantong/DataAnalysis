{
 "cells": [
  {
   "cell_type": "markdown",
   "metadata": {},
   "source": [
    "## Electromagnetic Analysis for FPGA_Tro_Ez"
   ]
  },
  {
   "cell_type": "code",
   "execution_count": 69,
   "metadata": {},
   "outputs": [],
   "source": [
    "from scipy.io import loadmat\n"
   ]
  },
  {
   "cell_type": "code",
   "execution_count": 70,
   "metadata": {},
   "outputs": [],
   "source": [
    "import numpy as np\n",
    "import pandas as pd\n",
    "import matplotlib.pyplot as plt\n",
    "import seaborn as sns\n",
    "import matplotlib\n",
    "sns.set()"
   ]
  },
  {
   "cell_type": "code",
   "execution_count": 71,
   "metadata": {},
   "outputs": [
    {
     "name": "stdout",
     "output_type": "stream",
     "text": [
      "Using matplotlib backend: Qt5Agg\n"
     ]
    }
   ],
   "source": [
    "%matplotlib\n"
   ]
  },
  {
   "cell_type": "code",
   "execution_count": 72,
   "metadata": {},
   "outputs": [],
   "source": [
    "fpga_tro_ez = loadmat('FreqEzFPGAtro.mat')"
   ]
  },
  {
   "cell_type": "code",
   "execution_count": 73,
   "metadata": {},
   "outputs": [
    {
     "data": {
      "text/plain": [
       "dict_keys(['__header__', '__version__', '__globals__', 'FreqMatrixExtractHY'])"
      ]
     },
     "execution_count": 73,
     "metadata": {},
     "output_type": "execute_result"
    }
   ],
   "source": [
    "fpga_tro_ez.keys()\n"
   ]
  },
  {
   "cell_type": "code",
   "execution_count": 74,
   "metadata": {},
   "outputs": [],
   "source": [
    "data = fpga_tro_ez['FreqMatrixExtractHY']"
   ]
  },
  {
   "cell_type": "code",
   "execution_count": 75,
   "metadata": {},
   "outputs": [],
   "source": [
    "x = np.arange(0,160,1)\n",
    "y = np.arange(0, 160, 1)\n"
   ]
  },
  {
   "cell_type": "code",
   "execution_count": 76,
   "metadata": {},
   "outputs": [],
   "source": [
    "X, Y = np.meshgrid(x,y)"
   ]
  },
  {
   "cell_type": "code",
   "execution_count": 18,
   "metadata": {},
   "outputs": [
    {
     "name": "stderr",
     "output_type": "stream",
     "text": [
      "C:\\Anaconda3\\lib\\site-packages\\matplotlib\\pyplot.py:528: RuntimeWarning: More than 20 figures have been opened. Figures created through the pyplot interface (`matplotlib.pyplot.figure`) are retained until explicitly closed and may consume too much memory. (To control this warning, see the rcParam `figure.max_open_warning`).\n",
      "  max_open_warning, RuntimeWarning)\n"
     ]
    }
   ],
   "source": [
    "for i in range(10):\n",
    "    plt.subplots()\n",
    "    clabel = plt.contourf(X, Y, data[i], cmap=plt.cm.RdBu_r)\n",
    "    plt.colorbar(clabel)"
   ]
  },
  {
   "cell_type": "code",
   "execution_count": null,
   "metadata": {},
   "outputs": [],
   "source": [
    "for i in range(len(data)):\n",
    "    plt.subplots()\n",
    "    clabel = plt.contourf(X, Y, data[i], cmap=plt.cm.RdYlBu_r)\n",
    "    plt.colorbar(clabel)\n",
    "    plt.savefig(\"./Figures2/Fig\" + str(i+1))\n",
    "    plt.close()"
   ]
  },
  {
   "cell_type": "code",
   "execution_count": 81,
   "metadata": {},
   "outputs": [],
   "source": [
    "freq_std = []\n",
    "for i in range(len(data)):\n",
    "    freq_std.append(data[i].std())"
   ]
  },
  {
   "cell_type": "code",
   "execution_count": 82,
   "metadata": {},
   "outputs": [],
   "source": [
    "freq_std = pd.DataFrame(freq_std)"
   ]
  },
  {
   "cell_type": "code",
   "execution_count": 83,
   "metadata": {},
   "outputs": [
    {
     "data": {
      "text/plain": [
       "<matplotlib.axes._subplots.AxesSubplot at 0x3d458128>"
      ]
     },
     "execution_count": 83,
     "metadata": {},
     "output_type": "execute_result"
    }
   ],
   "source": [
    "freq_std.plot()"
   ]
  },
  {
   "cell_type": "code",
   "execution_count": 18,
   "metadata": {},
   "outputs": [
    {
     "data": {
      "text/html": [
       "<div>\n",
       "<style scoped>\n",
       "    .dataframe tbody tr th:only-of-type {\n",
       "        vertical-align: middle;\n",
       "    }\n",
       "\n",
       "    .dataframe tbody tr th {\n",
       "        vertical-align: top;\n",
       "    }\n",
       "\n",
       "    .dataframe thead th {\n",
       "        text-align: right;\n",
       "    }\n",
       "</style>\n",
       "<table border=\"1\" class=\"dataframe\">\n",
       "  <thead>\n",
       "    <tr style=\"text-align: right;\">\n",
       "      <th></th>\n",
       "      <th>0</th>\n",
       "    </tr>\n",
       "  </thead>\n",
       "  <tbody>\n",
       "    <tr>\n",
       "      <th>40</th>\n",
       "      <td>3.572578</td>\n",
       "    </tr>\n",
       "    <tr>\n",
       "      <th>42</th>\n",
       "      <td>4.535333</td>\n",
       "    </tr>\n",
       "    <tr>\n",
       "      <th>124</th>\n",
       "      <td>3.576768</td>\n",
       "    </tr>\n",
       "    <tr>\n",
       "      <th>127</th>\n",
       "      <td>3.524094</td>\n",
       "    </tr>\n",
       "    <tr>\n",
       "      <th>128</th>\n",
       "      <td>3.459161</td>\n",
       "    </tr>\n",
       "    <tr>\n",
       "      <th>208</th>\n",
       "      <td>3.692222</td>\n",
       "    </tr>\n",
       "    <tr>\n",
       "      <th>211</th>\n",
       "      <td>3.688005</td>\n",
       "    </tr>\n",
       "    <tr>\n",
       "      <th>212</th>\n",
       "      <td>3.618184</td>\n",
       "    </tr>\n",
       "    <tr>\n",
       "      <th>213</th>\n",
       "      <td>3.398591</td>\n",
       "    </tr>\n",
       "    <tr>\n",
       "      <th>218</th>\n",
       "      <td>4.882679</td>\n",
       "    </tr>\n",
       "    <tr>\n",
       "      <th>374</th>\n",
       "      <td>3.919196</td>\n",
       "    </tr>\n",
       "    <tr>\n",
       "      <th>383</th>\n",
       "      <td>3.377118</td>\n",
       "    </tr>\n",
       "    <tr>\n",
       "      <th>458</th>\n",
       "      <td>3.348732</td>\n",
       "    </tr>\n",
       "  </tbody>\n",
       "</table>\n",
       "</div>"
      ],
      "text/plain": [
       "            0\n",
       "40   3.572578\n",
       "42   4.535333\n",
       "124  3.576768\n",
       "127  3.524094\n",
       "128  3.459161\n",
       "208  3.692222\n",
       "211  3.688005\n",
       "212  3.618184\n",
       "213  3.398591\n",
       "218  4.882679\n",
       "374  3.919196\n",
       "383  3.377118\n",
       "458  3.348732"
      ]
     },
     "execution_count": 18,
     "metadata": {},
     "output_type": "execute_result"
    }
   ],
   "source": [
    "freq_std[freq_std>=3.3].dropna(how='all')"
   ]
  },
  {
   "cell_type": "code",
   "execution_count": 77,
   "metadata": {},
   "outputs": [],
   "source": [
    "std_x = np.arange(0,1001,1)"
   ]
  },
  {
   "cell_type": "code",
   "execution_count": 78,
   "metadata": {},
   "outputs": [
    {
     "data": {
      "text/plain": [
       "1001"
      ]
     },
     "execution_count": 78,
     "metadata": {},
     "output_type": "execute_result"
    }
   ],
   "source": [
    "len(std_x)"
   ]
  },
  {
   "cell_type": "code",
   "execution_count": 79,
   "metadata": {},
   "outputs": [
    {
     "ename": "NameError",
     "evalue": "name 'freq_std' is not defined",
     "output_type": "error",
     "traceback": [
      "\u001b[1;31m---------------------------------------------------------------------------\u001b[0m",
      "\u001b[1;31mNameError\u001b[0m                                 Traceback (most recent call last)",
      "\u001b[1;32m<ipython-input-79-bbf7c8314bc4>\u001b[0m in \u001b[0;36m<module>\u001b[1;34m\u001b[0m\n\u001b[0;32m      1\u001b[0m \u001b[0mplt\u001b[0m\u001b[1;33m.\u001b[0m\u001b[0msubplots\u001b[0m\u001b[1;33m(\u001b[0m\u001b[1;33m)\u001b[0m\u001b[1;33m\u001b[0m\u001b[1;33m\u001b[0m\u001b[0m\n\u001b[1;32m----> 2\u001b[1;33m \u001b[0mplt\u001b[0m\u001b[1;33m.\u001b[0m\u001b[0mbar\u001b[0m\u001b[1;33m(\u001b[0m\u001b[0mstd_x\u001b[0m\u001b[1;33m,\u001b[0m\u001b[0mfreq_std\u001b[0m\u001b[1;33m.\u001b[0m\u001b[0mvalues\u001b[0m\u001b[1;33m.\u001b[0m\u001b[0mflatten\u001b[0m\u001b[1;33m(\u001b[0m\u001b[1;33m)\u001b[0m\u001b[1;33m,\u001b[0m\u001b[0mwidth\u001b[0m\u001b[1;33m=\u001b[0m\u001b[1;36m0.5\u001b[0m\u001b[1;33m)\u001b[0m\u001b[1;33m\u001b[0m\u001b[1;33m\u001b[0m\u001b[0m\n\u001b[0m",
      "\u001b[1;31mNameError\u001b[0m: name 'freq_std' is not defined"
     ]
    }
   ],
   "source": [
    "plt.subplots()\n",
    "plt.bar(std_x,freq_std.values.flatten(),width=0.5)"
   ]
  },
  {
   "cell_type": "code",
   "execution_count": 29,
   "metadata": {},
   "outputs": [
    {
     "data": {
      "text/plain": [
       "(1001, 1)"
      ]
     },
     "execution_count": 29,
     "metadata": {},
     "output_type": "execute_result"
    }
   ],
   "source": [
    "freq_std.shape"
   ]
  },
  {
   "cell_type": "code",
   "execution_count": 33,
   "metadata": {},
   "outputs": [
    {
     "data": {
      "text/plain": [
       "1001"
      ]
     },
     "execution_count": 33,
     "metadata": {},
     "output_type": "execute_result"
    }
   ],
   "source": [
    "len(freq_std.values.flatten())"
   ]
  },
  {
   "cell_type": "code",
   "execution_count": 45,
   "metadata": {},
   "outputs": [],
   "source": [
    "x_ticks = np.arange(200,1400,200)"
   ]
  },
  {
   "cell_type": "code",
   "execution_count": 47,
   "metadata": {},
   "outputs": [
    {
     "data": {
      "text/plain": [
       "([<matplotlib.axis.XTick at 0x1f8e8358>,\n",
       "  <matplotlib.axis.XTick at 0x1e833080>,\n",
       "  <matplotlib.axis.XTick at 0x22622dd8>,\n",
       "  <matplotlib.axis.XTick at 0x228d4ac8>,\n",
       "  <matplotlib.axis.XTick at 0x22a48160>,\n",
       "  <matplotlib.axis.XTick at 0x22a487b8>],\n",
       " <a list of 6 Text xticklabel objects>)"
      ]
     },
     "execution_count": 47,
     "metadata": {},
     "output_type": "execute_result"
    }
   ],
   "source": [
    "plt.xticks(x_ticks)"
   ]
  },
  {
   "cell_type": "code",
   "execution_count": 50,
   "metadata": {},
   "outputs": [
    {
     "data": {
      "text/plain": [
       "(<matplotlib.figure.Figure at 0x221cc048>,\n",
       " <matplotlib.axes._subplots.AxesSubplot at 0x223092e8>)"
      ]
     },
     "execution_count": 50,
     "metadata": {},
     "output_type": "execute_result"
    }
   ],
   "source": [
    "plt.subplots()"
   ]
  },
  {
   "cell_type": "code",
   "execution_count": 49,
   "metadata": {},
   "outputs": [],
   "source": [
    "sns.set()"
   ]
  },
  {
   "cell_type": "code",
   "execution_count": 51,
   "metadata": {},
   "outputs": [
    {
     "data": {
      "text/plain": [
       "<matplotlib.collections.PathCollection at 0x22344b70>"
      ]
     },
     "execution_count": 51,
     "metadata": {},
     "output_type": "execute_result"
    }
   ],
   "source": [
    "plt.scatter(freq_std,freq_std)"
   ]
  },
  {
   "cell_type": "markdown",
   "metadata": {},
   "source": [
    "##### 1.PCA学习"
   ]
  },
  {
   "cell_type": "markdown",
   "metadata": {},
   "source": [
    "（1）PCA analysis"
   ]
  },
  {
   "cell_type": "code",
   "execution_count": 84,
   "metadata": {},
   "outputs": [],
   "source": [
    "from sklearn.decomposition import PCA"
   ]
  },
  {
   "cell_type": "code",
   "execution_count": 53,
   "metadata": {},
   "outputs": [],
   "source": [
    "data0 = data[0]"
   ]
  },
  {
   "cell_type": "code",
   "execution_count": 54,
   "metadata": {},
   "outputs": [
    {
     "data": {
      "text/plain": [
       "(160, 160)"
      ]
     },
     "execution_count": 54,
     "metadata": {},
     "output_type": "execute_result"
    }
   ],
   "source": [
    "data0.shape"
   ]
  },
  {
   "cell_type": "code",
   "execution_count": 55,
   "metadata": {},
   "outputs": [],
   "source": [
    "pca = PCA(n_components=5)"
   ]
  },
  {
   "cell_type": "code",
   "execution_count": 56,
   "metadata": {},
   "outputs": [
    {
     "data": {
      "text/plain": [
       "PCA(copy=True, iterated_power='auto', n_components=5, random_state=None,\n",
       "  svd_solver='auto', tol=0.0, whiten=False)"
      ]
     },
     "execution_count": 56,
     "metadata": {},
     "output_type": "execute_result"
    }
   ],
   "source": [
    "pca.fit(data0)"
   ]
  },
  {
   "cell_type": "code",
   "execution_count": 57,
   "metadata": {},
   "outputs": [
    {
     "data": {
      "text/plain": [
       "5"
      ]
     },
     "execution_count": 57,
     "metadata": {},
     "output_type": "execute_result"
    }
   ],
   "source": [
    "pca.n_components"
   ]
  },
  {
   "cell_type": "code",
   "execution_count": 59,
   "metadata": {},
   "outputs": [
    {
     "data": {
      "text/plain": [
       "(5, 160)"
      ]
     },
     "execution_count": 59,
     "metadata": {},
     "output_type": "execute_result"
    }
   ],
   "source": [
    "pca.components_.shape"
   ]
  },
  {
   "cell_type": "code",
   "execution_count": 61,
   "metadata": {},
   "outputs": [],
   "source": [
    "rng = np.random.RandomState(1)"
   ]
  },
  {
   "cell_type": "code",
   "execution_count": 62,
   "metadata": {},
   "outputs": [],
   "source": [
    "X = np.dot(rng.rand(2,2),rng.randn(2,200)).T"
   ]
  },
  {
   "cell_type": "code",
   "execution_count": 63,
   "metadata": {},
   "outputs": [
    {
     "data": {
      "text/plain": [
       "(200, 2)"
      ]
     },
     "execution_count": 63,
     "metadata": {},
     "output_type": "execute_result"
    }
   ],
   "source": [
    "X.shape"
   ]
  },
  {
   "cell_type": "code",
   "execution_count": 65,
   "metadata": {},
   "outputs": [
    {
     "data": {
      "text/plain": [
       "(<matplotlib.figure.Figure at 0x223181d0>,\n",
       " <matplotlib.axes._subplots.AxesSubplot at 0x2345e358>)"
      ]
     },
     "execution_count": 65,
     "metadata": {},
     "output_type": "execute_result"
    }
   ],
   "source": [
    "plt.subplots()\n"
   ]
  },
  {
   "cell_type": "code",
   "execution_count": 66,
   "metadata": {},
   "outputs": [
    {
     "data": {
      "text/plain": [
       "<matplotlib.collections.PathCollection at 0x23b289b0>"
      ]
     },
     "execution_count": 66,
     "metadata": {},
     "output_type": "execute_result"
    }
   ],
   "source": [
    "plt.scatter(X[:,0],X[:,1])"
   ]
  },
  {
   "cell_type": "code",
   "execution_count": 67,
   "metadata": {},
   "outputs": [],
   "source": [
    "pca = PCA(2)"
   ]
  },
  {
   "cell_type": "code",
   "execution_count": 68,
   "metadata": {},
   "outputs": [
    {
     "data": {
      "text/plain": [
       "PCA(copy=True, iterated_power='auto', n_components=2, random_state=None,\n",
       "  svd_solver='auto', tol=0.0, whiten=False)"
      ]
     },
     "execution_count": 68,
     "metadata": {},
     "output_type": "execute_result"
    }
   ],
   "source": [
    "pca.fit(X)"
   ]
  },
  {
   "cell_type": "markdown",
   "metadata": {},
   "source": [
    "主成分:"
   ]
  },
  {
   "cell_type": "code",
   "execution_count": 69,
   "metadata": {},
   "outputs": [
    {
     "data": {
      "text/plain": [
       "array([[-0.94446029, -0.32862557],\n",
       "       [-0.32862557,  0.94446029]])"
      ]
     },
     "execution_count": 69,
     "metadata": {},
     "output_type": "execute_result"
    }
   ],
   "source": [
    "pca.components_"
   ]
  },
  {
   "cell_type": "markdown",
   "metadata": {},
   "source": [
    "可解释的差异："
   ]
  },
  {
   "cell_type": "code",
   "execution_count": 71,
   "metadata": {},
   "outputs": [
    {
     "data": {
      "text/plain": [
       "array([0.7625315, 0.0184779])"
      ]
     },
     "execution_count": 71,
     "metadata": {},
     "output_type": "execute_result"
    }
   ],
   "source": [
    "pca.explained_variance_"
   ]
  },
  {
   "cell_type": "code",
   "execution_count": 72,
   "metadata": {},
   "outputs": [],
   "source": [
    "def draw_vector(v0, v1, ax=None):\n",
    "    ax = ax or plt.gca()\n",
    "    arrowprops = dict(arrowstyle='->',linewidth=2, shrinkA=0, shrinkB=0)\n",
    "    ax.annotate('', v0, v1, arrowprops=arrowprops)"
   ]
  },
  {
   "cell_type": "code",
   "execution_count": 73,
   "metadata": {},
   "outputs": [
    {
     "data": {
      "text/plain": [
       "(<matplotlib.figure.Figure at 0x23b3d0f0>,\n",
       " <matplotlib.axes._subplots.AxesSubplot at 0x23b3d710>)"
      ]
     },
     "execution_count": 73,
     "metadata": {},
     "output_type": "execute_result"
    }
   ],
   "source": [
    "plt.subplots()"
   ]
  },
  {
   "cell_type": "code",
   "execution_count": 74,
   "metadata": {},
   "outputs": [
    {
     "data": {
      "text/plain": [
       "<matplotlib.collections.PathCollection at 0x23cd2518>"
      ]
     },
     "execution_count": 74,
     "metadata": {},
     "output_type": "execute_result"
    }
   ],
   "source": [
    "plt.scatter(X[:,0], X[:,1], alpha=0.2)"
   ]
  },
  {
   "cell_type": "code",
   "execution_count": 75,
   "metadata": {},
   "outputs": [
    {
     "data": {
      "text/plain": [
       "(-2.7370333024013895,\n",
       " 2.5780365361094546,\n",
       " -0.9431003378113761,\n",
       " 1.0148960105226839)"
      ]
     },
     "execution_count": 75,
     "metadata": {},
     "output_type": "execute_result"
    }
   ],
   "source": [
    "for length, vector in zip(pca.explained_variance_, pca.components_):\n",
    "    v = vector * 3 * np.sqrt(length)\n",
    "    draw_vector(pca.mean_, pca.mean_ + v)\n",
    "plt.axis('equal')"
   ]
  },
  {
   "cell_type": "markdown",
   "metadata": {},
   "source": [
    "下面做个PCA降维的例子，数据还是使用先前的X："
   ]
  },
  {
   "cell_type": "code",
   "execution_count": 77,
   "metadata": {},
   "outputs": [],
   "source": [
    "pca = PCA(n_components=1)#一个主成分"
   ]
  },
  {
   "cell_type": "code",
   "execution_count": 78,
   "metadata": {},
   "outputs": [
    {
     "data": {
      "text/plain": [
       "PCA(copy=True, iterated_power='auto', n_components=1, random_state=None,\n",
       "  svd_solver='auto', tol=0.0, whiten=False)"
      ]
     },
     "execution_count": 78,
     "metadata": {},
     "output_type": "execute_result"
    }
   ],
   "source": [
    "pca.fit(X)"
   ]
  },
  {
   "cell_type": "code",
   "execution_count": 80,
   "metadata": {},
   "outputs": [],
   "source": [
    "X_pca = pca.transform(X)"
   ]
  },
  {
   "cell_type": "code",
   "execution_count": 81,
   "metadata": {},
   "outputs": [
    {
     "data": {
      "text/plain": [
       "(200, 1)"
      ]
     },
     "execution_count": 81,
     "metadata": {},
     "output_type": "execute_result"
    }
   ],
   "source": [
    "X_pca.shape"
   ]
  },
  {
   "cell_type": "code",
   "execution_count": 83,
   "metadata": {},
   "outputs": [
    {
     "name": "stdout",
     "output_type": "stream",
     "text": [
      "Original shape: (200, 2)\n",
      "Transformed shape: (200, 1)\n"
     ]
    }
   ],
   "source": [
    "print(\"Original shape:\", X.shape)\n",
    "print('Transformed shape:', X_pca.shape)"
   ]
  },
  {
   "cell_type": "markdown",
   "metadata": {},
   "source": [
    "变换的数据被投影到单一维度。为了理解降维的效果，可对数据做降维的逆变换，并且与原数据仪器画出来。"
   ]
  },
  {
   "cell_type": "code",
   "execution_count": 84,
   "metadata": {},
   "outputs": [
    {
     "data": {
      "text/plain": [
       "(-2.760354895836614, 2.650583711737073, -0.987217466350432, 1.0169344322370828)"
      ]
     },
     "execution_count": 84,
     "metadata": {},
     "output_type": "execute_result"
    }
   ],
   "source": [
    "X_new = pca.inverse_transform(X_pca)#降维的逆变换\n",
    "#画图\n",
    "plt.subplots()\n",
    "plt.scatter(X[:,0], X[:,1], alpha=0.2) #alpha表示透明度，值越小越透明\n",
    "plt.scatter(X_new[:,0], X_new[:,1], alpha=0.8)\n",
    "plt.axis('equal')\n"
   ]
  },
  {
   "cell_type": "markdown",
   "metadata": {},
   "source": [
    "图中浅色的点是原始数据点，深色的点是降维后的数据，可以看出，沿着非主轴的信息被舍弃了，只留下最大方差的数据成分。被舍弃的那一部分信息，可以认为是数据降维后损失的信息。"
   ]
  },
  {
   "cell_type": "markdown",
   "metadata": {},
   "source": [
    "（2）PCA用于手写数字识别的可视化"
   ]
  },
  {
   "cell_type": "code",
   "execution_count": 85,
   "metadata": {},
   "outputs": [
    {
     "data": {
      "text/plain": [
       "(1797, 64)"
      ]
     },
     "execution_count": 85,
     "metadata": {},
     "output_type": "execute_result"
    }
   ],
   "source": [
    "from sklearn.datasets import load_digits  #导入手写数据\n",
    "digits = load_digits()\n",
    "digits.data.shape"
   ]
  },
  {
   "cell_type": "markdown",
   "metadata": {},
   "source": [
    "由于这些数字都是以图片的形式，像素8*8存储的，因此它是64维的。我们将它投影到2维看看效果如何。"
   ]
  },
  {
   "cell_type": "code",
   "execution_count": 87,
   "metadata": {},
   "outputs": [
    {
     "name": "stdout",
     "output_type": "stream",
     "text": [
      "(1797, 64)\n",
      "(1797, 2)\n"
     ]
    }
   ],
   "source": [
    "pca = PCA(n_components=2)\n",
    "projected = pca.fit_transform(digits.data)#fit()方法和transform()方面合并在一起了\n",
    "print(digits.data.shape)\n",
    "print(projected.shape)"
   ]
  },
  {
   "cell_type": "markdown",
   "metadata": {},
   "source": [
    "然后画出每个点的前两个主成分，以更好地了解数据。"
   ]
  },
  {
   "cell_type": "code",
   "execution_count": 88,
   "metadata": {},
   "outputs": [
    {
     "name": "stderr",
     "output_type": "stream",
     "text": [
      "C:\\Anaconda3\\lib\\site-packages\\matplotlib\\cbook\\deprecation.py:106: MatplotlibDeprecationWarning: The spectral and spectral_r colormap was deprecated in version 2.0. Use nipy_spectral and nipy_spectral_r instead.\n",
      "  warnings.warn(message, mplDeprecation, stacklevel=1)\n"
     ]
    },
    {
     "data": {
      "text/plain": [
       "<matplotlib.colorbar.Colorbar at 0x2486d9e8>"
      ]
     },
     "execution_count": 88,
     "metadata": {},
     "output_type": "execute_result"
    }
   ],
   "source": [
    "plt.subplots()\n",
    "plt.scatter(projected[:,0], projected[:,1], c=digits.target, edgecolors='none', alpha=0.5, \n",
    "            cmap=plt.cm.get_cmap('spectral', 10))\n",
    "plt.xlabel('component 1')\n",
    "plt.ylabel('component 2')\n",
    "plt.colorbar()\n"
   ]
  },
  {
   "cell_type": "markdown",
   "metadata": {},
   "source": [
    "如何选择主成分的数量呢？可以使用“累计方差贡献率”来确定主成分的数量。"
   ]
  },
  {
   "cell_type": "code",
   "execution_count": 89,
   "metadata": {},
   "outputs": [
    {
     "data": {
      "text/plain": [
       "Text(0,0.5,'cumulative explained variance')"
      ]
     },
     "execution_count": 89,
     "metadata": {},
     "output_type": "execute_result"
    }
   ],
   "source": [
    "pca = PCA().fit(digits.data)\n",
    "plt.subplots()\n",
    "plt.plot(np.cumsum(pca.explained_variance_ratio_)) #可解释方差贡献率的累计和\n",
    "plt.xlabel('number of components')\n",
    "plt.ylabel('cumulative explained variance')\n"
   ]
  },
  {
   "cell_type": "markdown",
   "metadata": {},
   "source": [
    "这个曲线量化了在前N个主成分中包含多少总的64维的方差。从图中可以看出，前10个主成分基本上包含了75%左右的方差。\n",
    "当选择到50个成分时，基本就包含了100%的方差。\n",
    "从图中我们也知道，上述2维的PCA损失大部分的信息，要保持90%以上的方差，至少选择20个主成分。"
   ]
  },
  {
   "cell_type": "markdown",
   "metadata": {},
   "source": [
    "（3）将PCA用于噪声过滤"
   ]
  },
  {
   "cell_type": "markdown",
   "metadata": {},
   "source": [
    "通常情况下，任何成分的方差都远大于噪声的方差。因此，如果只用主成分去重构数据（比如图像等），那么应该能够选择性去除噪声的。\n",
    "首先，我们画出几个无噪声的手写数字。"
   ]
  },
  {
   "cell_type": "code",
   "execution_count": 92,
   "metadata": {},
   "outputs": [],
   "source": [
    "def plot_digits(data):\n",
    "    fig, axes = plt.subplots(4, 10, figsize=(10,4), subplot_kw={'xticks':[],'yticks':[]},\n",
    "                            gridspec_kw=dict(hspace=0.1, wspace=0.1))\n",
    "    for i, ax in enumerate(axes.flat):\n",
    "        ax.imshow(data[i].reshape(8,8), cmap='binary', interpolation='nearest', clim=(0, 16))\n",
    "plot_digits(digits.data)"
   ]
  },
  {
   "cell_type": "markdown",
   "metadata": {},
   "source": [
    "给数据添加噪声，重新画图。"
   ]
  },
  {
   "cell_type": "code",
   "execution_count": 108,
   "metadata": {},
   "outputs": [],
   "source": [
    "np.random.seed(42)\n",
    "noisy_data = np.random.normal(digits.data, 4)\n",
    "plot_digits(noisy_data)"
   ]
  },
  {
   "cell_type": "markdown",
   "metadata": {},
   "source": [
    "然后用噪声数据训练PCA，投影后保留50%的方差。"
   ]
  },
  {
   "cell_type": "code",
   "execution_count": 109,
   "metadata": {},
   "outputs": [
    {
     "data": {
      "text/plain": [
       "12"
      ]
     },
     "execution_count": 109,
     "metadata": {},
     "output_type": "execute_result"
    }
   ],
   "source": [
    "pca = PCA(0.50).fit(noisy_data)\n",
    "pca.n_components_"
   ]
  },
  {
   "cell_type": "markdown",
   "metadata": {},
   "source": [
    "可以看出，保留的50%的方差对应12个主成分，然后利用逆变换重构手写数字。"
   ]
  },
  {
   "cell_type": "code",
   "execution_count": 110,
   "metadata": {},
   "outputs": [],
   "source": [
    "components = pca.transform(noisy_data)\n",
    "filtered_data = pca.inverse_transform(components)\n",
    "plot_digits(filtered_data)"
   ]
  },
  {
   "cell_type": "markdown",
   "metadata": {},
   "source": [
    "(4)PCA用于辅助k-means进行聚类分析"
   ]
  },
  {
   "cell_type": "code",
   "execution_count": 111,
   "metadata": {},
   "outputs": [
    {
     "data": {
      "text/plain": [
       "(1001, 160, 160)"
      ]
     },
     "execution_count": 111,
     "metadata": {},
     "output_type": "execute_result"
    }
   ],
   "source": [
    "data.shape"
   ]
  },
  {
   "cell_type": "code",
   "execution_count": 112,
   "metadata": {},
   "outputs": [
    {
     "data": {
      "text/plain": [
       "(160, 160)"
      ]
     },
     "execution_count": 112,
     "metadata": {},
     "output_type": "execute_result"
    }
   ],
   "source": [
    "data0.shape"
   ]
  },
  {
   "cell_type": "code",
   "execution_count": 125,
   "metadata": {},
   "outputs": [
    {
     "data": {
      "text/plain": [
       "Text(0.5,1,'FPGA_Tro_Ez: variance ratio of frequency')"
      ]
     },
     "execution_count": 125,
     "metadata": {},
     "output_type": "execute_result"
    }
   ],
   "source": [
    "pca = PCA().fit(data[43])\n",
    "plt.subplots()\n",
    "plt.plot(np.cumsum(pca.explained_variance_ratio_)) #可解释方差贡献率的累计和\n",
    "plt.xlabel('number of components')\n",
    "plt.ylabel('cumulative explained variance')\n",
    "plt.title('FPGA_Tro_Ez: variance ratio of frequency')"
   ]
  },
  {
   "cell_type": "code",
   "execution_count": 123,
   "metadata": {},
   "outputs": [
    {
     "data": {
      "text/plain": [
       "80"
      ]
     },
     "execution_count": 123,
     "metadata": {},
     "output_type": "execute_result"
    }
   ],
   "source": [
    "pca = PCA(0.999999).fit(data[43])\n",
    "pca.n_components_"
   ]
  },
  {
   "cell_type": "markdown",
   "metadata": {},
   "source": [
    "<font size=3>数据集中的方差验证</font>"
   ]
  },
  {
   "cell_type": "code",
   "execution_count": 134,
   "metadata": {},
   "outputs": [
    {
     "name": "stdout",
     "output_type": "stream",
     "text": [
      "-42.746578730705465\n",
      "1.2621245419701919\n",
      "1.262124541970186\n"
     ]
    }
   ],
   "source": [
    "d0_flat = data[0].flatten()\n",
    "d0_mean = d0_flat.mean()\n",
    "print(d0_mean)\n",
    "sum(d0_flat) / len(d0_flat)\n",
    "\n",
    "s = 0\n",
    "for i in d0_flat:\n",
    "    s = s + (i - d0_mean)**2\n",
    "\n",
    "d0_std = np.sqrt(s/len(d0_flat))\n",
    "print(d0_std)\n",
    "print(d0_flat.std())\n",
    "    "
   ]
  },
  {
   "cell_type": "code",
   "execution_count": 168,
   "metadata": {
    "collapsed": true
   },
   "outputs": [
    {
     "name": "stdout",
     "output_type": "stream",
     "text": [
      "1 1.2621245419701863\n",
      "2 3.1853907810845747\n",
      "3 1.0737758660333292\n",
      "4 3.165710803915547\n",
      "5 1.0192067022425138\n",
      "6 3.2278245356025956\n",
      "7 1.0993517537151964\n",
      "8 3.180998063116527\n",
      "9 1.0575961715900501\n",
      "10 3.163043733504071\n",
      "11 1.0170475021968557\n",
      "12 3.2111906817310523\n",
      "13 1.1277354610516404\n",
      "14 3.2144007820347786\n",
      "15 1.011385910667333\n"
     ]
    }
   ],
   "source": [
    "for i in range(15):\n",
    "    print(1+i,data[i].std())\n"
   ]
  },
  {
   "cell_type": "code",
   "execution_count": 170,
   "metadata": {
    "scrolled": true
   },
   "outputs": [
    {
     "name": "stdout",
     "output_type": "stream",
     "text": [
      "3.220667595865842\n",
      "4.535332530024808\n"
     ]
    }
   ],
   "source": [
    "print(data[41].std())\n",
    "print(data[42].std())"
   ]
  },
  {
   "cell_type": "markdown",
   "metadata": {},
   "source": [
    "##### 2.K-Means学习"
   ]
  },
  {
   "cell_type": "markdown",
   "metadata": {},
   "source": [
    "<font size=3>k-means算法在不带标签的多维数据中寻找确定数量的簇，它要符合以下两个假设：<br/>\n",
    "（1）簇的中心点是属于该簇中各坐标点的算数平均值；<br/>\n",
    "（2）簇中各点到该簇中心点比到其它簇的中心点的距离最短。\n",
    "</font>"
   ]
  },
  {
   "cell_type": "code",
   "execution_count": 10,
   "metadata": {},
   "outputs": [
    {
     "data": {
      "text/plain": [
       "<matplotlib.collections.PathCollection at 0x1ab8dcc0>"
      ]
     },
     "execution_count": 10,
     "metadata": {},
     "output_type": "execute_result"
    }
   ],
   "source": [
    "from sklearn.datasets.samples_generator import make_blobs\n",
    "X, y_true = make_blobs(n_samples=300, centers=4, cluster_std=0.6, random_state=0)\n",
    "plt.subplots()\n",
    "plt.scatter(X[:,0], X[:,1], s=50)"
   ]
  },
  {
   "cell_type": "markdown",
   "metadata": {},
   "source": [
    "<img src=\"5-11-1.png\" title=\"图5-11-1\">"
   ]
  },
  {
   "cell_type": "markdown",
   "metadata": {},
   "source": [
    "可以看出，图中可分为4个簇。下面使用k-means算法来进行聚类。"
   ]
  },
  {
   "cell_type": "code",
   "execution_count": 11,
   "metadata": {},
   "outputs": [
    {
     "name": "stdout",
     "output_type": "stream",
     "text": [
      "每个点的聚类结果:\n",
      " [3 1 0 1 3 3 2 0 1 1 2 1 0 1 3 0 0 3 2 2 3 3 0 2 2 0 3 0 2 0 1 1 0 1 1 1 1\n",
      " 1 2 3 0 2 0 0 2 2 1 2 1 3 2 3 1 3 3 2 1 2 1 3 1 0 1 2 2 2 1 3 1 2 0 2 1 2\n",
      " 2 1 2 0 3 1 3 0 3 3 1 0 3 0 1 1 0 3 1 2 2 0 3 3 0 2 1 3 1 3 0 3 3 0 1 0 2\n",
      " 2 3 1 3 0 1 3 3 0 2 3 2 3 3 3 3 2 3 2 1 2 2 3 1 2 2 1 0 1 1 2 0 2 0 2 1 0\n",
      " 1 1 1 0 1 0 3 2 1 2 3 0 1 0 0 3 0 2 2 0 3 0 0 1 3 0 2 1 3 3 0 2 3 0 2 2 0\n",
      " 0 0 0 3 1 0 2 0 0 2 2 2 0 2 1 0 2 3 2 0 1 2 1 0 1 0 2 0 0 1 2 2 3 3 0 1 3\n",
      " 3 2 3 2 0 1 1 0 0 1 0 3 2 0 3 2 1 2 3 0 3 1 1 1 1 2 2 1 0 2 3 0 2 2 2 3 3\n",
      " 1 0 0 2 3 1 2 0 1 0 3 3 2 2 0 3 3 3 0 1 1 3 3 0 3 3 3 1 2 1 0 3 3 1 1 1 3\n",
      " 3 0 1 2]\n",
      "\n",
      "簇的中心点:\n",
      " [[ 0.94973532  4.41906906]\n",
      " [-1.37324398  7.75368871]\n",
      " [-1.58438467  2.83081263]\n",
      " [ 1.98258281  0.86771314]]\n"
     ]
    }
   ],
   "source": [
    "from sklearn.cluster import KMeans\n",
    "kmean = KMeans(n_clusters=4)\n",
    "kmean.fit(X)\n",
    "y_means = kmean.predict(X)\n",
    "print(\"每个点的聚类结果:\\n\",y_means)\n",
    "print(\"\\n簇的中心点:\\n\",kmean.cluster_centers_)"
   ]
  },
  {
   "cell_type": "markdown",
   "metadata": {},
   "source": [
    "我们将原始数据分别以不同的颜色画出来，然后画出K-means算法算出的簇中心点。"
   ]
  },
  {
   "cell_type": "code",
   "execution_count": 14,
   "metadata": {},
   "outputs": [
    {
     "data": {
      "text/plain": [
       "<matplotlib.collections.PathCollection at 0x1ebc74a8>"
      ]
     },
     "execution_count": 14,
     "metadata": {},
     "output_type": "execute_result"
    }
   ],
   "source": [
    "plt.subplots()\n",
    "plt.scatter(X[:,0], X[:,1], c=y_means, s=50, cmap=\"viridis\")#画出原始数据\n",
    "centers = kmean.cluster_centers_ #获取簇中心点\n",
    "plt.scatter(centers[:,0], centers[:,1], c='black', s = 200, alpha=0.6)#画出簇中心点\n"
   ]
  },
  {
   "cell_type": "markdown",
   "metadata": {},
   "source": [
    "<img src=\"5-11-2.png\" title=\"图5-11-2\">"
   ]
  },
  {
   "cell_type": "markdown",
   "metadata": {},
   "source": [
    "k-means算法是如何快速地找到簇中心点的呢，毕竟簇中心点的分配组合方案会随着数据的增加而呈现指数级的增长，如果k-means算法逐个穷举这些组合方案将会耗费大量的时间。好在k-means可以采用***<font >期望最大化<font>***（expectation maximization,E-M）规避穷举。下面简单介绍期望最大化算法。E-M算法的步骤：<br/>\n",
    "（1）猜测一些簇中心点。<br/>\n",
    "（2）重复一下步骤直至收敛：<br/>\n",
    " &emsp;&emsp; a.期望步骤（E-step）：将点分配距离其最近的中心点<br/>\n",
    " &emsp;&emsp; b.最大化步骤（M-step）：将簇中心点设置为该簇中所有点坐标的平均值<br/>\n",
    "    \n",
    "下面简单实现k-means算法:\n"
   ]
  },
  {
   "cell_type": "code",
   "execution_count": 12,
   "metadata": {},
   "outputs": [],
   "source": [
    "from sklearn.metrics import pairwise_distances_argmin\n",
    "def find_cluster(X, n_clusters, rseed=1):\n",
    "    '''\n",
    "    描述：对X进行聚类。\n",
    "    参数：\n",
    "        X：array-like，通常是(n_samples, n_features)的数组\n",
    "        n_clusters:int类型，要聚成几类\n",
    "        rseed：int类型，用于设置随机种子\n",
    "    返回值：\n",
    "        centers：所有簇的中心点\n",
    "        labels：X中每个点所属的那个簇的索引\n",
    "    \n",
    "    '''\n",
    "    #随机选择簇中心\n",
    "    rng = np.random.RandomState(rseed)\n",
    "    i = rng.permutation(X.shape[0])[:n_clusters] #permutation()用于随机搅乱np.arange(X.shape[0])\n",
    "    centers = X[i]\n",
    "    \n",
    "    while True:\n",
    "        #对于X中的每一行数据构成的点，从centers中找到距离该点最近的点\n",
    "        labels = pairwise_distances_argmin(X, centers)\n",
    "        #print(\"labels's shape:\", labels.shape)\n",
    "        #print(labels)\n",
    "        #更新簇中心：计算每一个簇中所有点的平均值，更新该簇的中心点\n",
    "        new_centers = np.array([X[labels == j].mean(axis=0) for j in range(n_clusters)])\n",
    "        #print(X[labels == i])\n",
    "        #检查是否收敛\n",
    "        if np.all(centers == new_centers):\n",
    "            break\n",
    "        centers = new_centers\n",
    "        \n",
    "    return centers,labels\n",
    "\n",
    "\n",
    "       "
   ]
  },
  {
   "cell_type": "code",
   "execution_count": 42,
   "metadata": {},
   "outputs": [
    {
     "data": {
      "text/plain": [
       "Text(0.5,1,'KMeans class:')"
      ]
     },
     "execution_count": 42,
     "metadata": {},
     "output_type": "execute_result"
    }
   ],
   "source": [
    "n_clusters = 6\n",
    "X, y_true = make_blobs(n_samples=300, centers=n_clusters, cluster_std=0.6, random_state=0)\n",
    "#自己实现的k-means算法\n",
    "centers, labels = find_cluster(X,n_clusters,2)\n",
    "plt.subplots()\n",
    "plt.scatter(X[:,0], X[:,1], c=labels, s=50, cmap='viridis')\n",
    "plt.scatter(centers[:,0], centers[:,1], c='red', s=380, alpha=0.6)\n",
    "plt.title('find_cluster()')\n",
    "\n",
    "kmeans = KMeans(n_clusters=n_clusters, random_state=0).fit_predict(X)\n",
    "plt.subplots()\n",
    "plt.scatter(X[:,0], X[:,1], c=labels, s=50, cmap='viridis')\n",
    "plt.scatter(centers[:,0], centers[:,1], c='red', s=380, alpha=0.6)\n",
    "plt.title('KMeans class:')"
   ]
  },
  {
   "cell_type": "markdown",
   "metadata": {},
   "source": [
    "上述用find_cluster()方法实现的k-means算法对于不同的簇中心初始值可能不会收敛到全局最优解，因此需要尝试多种不同的簇中心初始值才有可能达到全局最优解。在sklearn.clusters中的KMeans构造函数中，可以通过设置n_init参数选择需要尝试多少次簇中心初始值，默认是10。<br/>\n",
    "**注意**：k-means算法的缺点是必须认为地指定簇的数量算法才能够去很好聚类。"
   ]
  },
  {
   "cell_type": "markdown",
   "metadata": {},
   "source": [
    "#### k-means算法只能确定线性聚类边界"
   ]
  },
  {
   "cell_type": "markdown",
   "metadata": {},
   "source": [
    "k-means的基本模型假设是：与其它簇的中心相比，数据点更加接近自己的簇中心点，因此，如果簇中心点呈现非线性的复杂形状时，k-means算法经常不起作用。比如："
   ]
  },
  {
   "cell_type": "code",
   "execution_count": 13,
   "metadata": {},
   "outputs": [
    {
     "data": {
      "text/plain": [
       "<matplotlib.collections.PathCollection at 0x1ae9fb70>"
      ]
     },
     "execution_count": 13,
     "metadata": {},
     "output_type": "execute_result"
    }
   ],
   "source": [
    "from sklearn.datasets import  make_moons\n",
    "X, y = make_moons(n_samples=200, noise=0.05, random_state=0) #noise是要添加到数据的高斯噪声标准差\n",
    "labels = KMeans(n_clusters=2, random_state=0).fit_predict(X)\n",
    "plt.subplots()\n",
    "plt.scatter(X[:,0], X[:,1], c=labels, s=50, cmap='viridis')\n"
   ]
  },
  {
   "cell_type": "markdown",
   "metadata": {},
   "source": [
    "<img src=\"5-11-3.png\">"
   ]
  },
  {
   "cell_type": "markdown",
   "metadata": {},
   "source": [
    "解决的方法是通过核变换将数据投影到更高维的空间，从而使线性分离成为可能。这样就可以让k-means算法也可以出来非线性的边界问题。<br/>\n",
    "这种核k-means算法在sklearn的SpectralCulstering评估器中实现，它使用最近邻图来计算数据的高维表示，然后用k-means算法分配标签进行聚类。如下：\n"
   ]
  },
  {
   "cell_type": "code",
   "execution_count": 14,
   "metadata": {},
   "outputs": [
    {
     "name": "stderr",
     "output_type": "stream",
     "text": [
      "C:\\Anaconda3\\lib\\site-packages\\sklearn\\manifold\\spectral_embedding_.py:234: UserWarning: Graph is not fully connected, spectral embedding may not work as expected.\n",
      "  warnings.warn(\"Graph is not fully connected, spectral embedding\"\n"
     ]
    },
    {
     "data": {
      "text/plain": [
       "<matplotlib.collections.PathCollection at 0x200d62b0>"
      ]
     },
     "execution_count": 14,
     "metadata": {},
     "output_type": "execute_result"
    }
   ],
   "source": [
    "from sklearn.cluster  import SpectralClustering\n",
    "model = SpectralClustering(n_clusters=2, affinity='nearest_neighbors', assign_labels=\"kmeans\")\n",
    "labels = model.fit_predict(X)\n",
    "plt.subplots()\n",
    "plt.scatter(X[:,0], X[:,1], c=labels, s=50, cmap='viridis')"
   ]
  },
  {
   "cell_type": "markdown",
   "metadata": {},
   "source": [
    "<img src=\"5-11-4.png\">"
   ]
  },
  {
   "cell_type": "markdown",
   "metadata": {},
   "source": [
    "从上图可以看出，通过核变换，k-means就可以适应非线性边界的情况了。"
   ]
  },
  {
   "cell_type": "markdown",
   "metadata": {},
   "source": [
    "由于k-means算法每次更新簇中心都要获取所有数据，当数据量比较大，k-means会很慢。解决的方法是“每次迭代更新只使用数据集的一个子集来更新簇中心”这就是批处理的k-means算法的核心思想。该算法在sklearn.cluster.MiniBatchKMeans中实现，该算法的接口和标准的KMeans接口相同。"
   ]
  },
  {
   "cell_type": "markdown",
   "metadata": {},
   "source": [
    "### 用k-means识别手写数字"
   ]
  },
  {
   "cell_type": "code",
   "execution_count": 15,
   "metadata": {},
   "outputs": [
    {
     "name": "stdout",
     "output_type": "stream",
     "text": [
      "(1797, 64)\n"
     ]
    }
   ],
   "source": [
    "from sklearn.datasets import load_digits\n",
    "from sklearn.cluster import KMeans\n",
    "digits = load_digits()\n",
    "print(digits.data.shape)"
   ]
  },
  {
   "cell_type": "code",
   "execution_count": 16,
   "metadata": {},
   "outputs": [
    {
     "name": "stdout",
     "output_type": "stream",
     "text": [
      "(1797,)\n",
      "(10, 64)\n",
      "<class 'numpy.ndarray'>\n"
     ]
    }
   ],
   "source": [
    "kmeans = KMeans(n_clusters=10, random_state=0)\n",
    "clusters = kmeans.fit_predict(digits.data)\n",
    "print(clusters.shape)\n",
    "print(kmeans.cluster_centers_.shape)#簇中心点\n",
    "print(type(kmeans.cluster_centers_))"
   ]
  },
  {
   "cell_type": "code",
   "execution_count": 27,
   "metadata": {},
   "outputs": [],
   "source": [
    "fig, ax = plt.subplots(2, 5, figsize=(8, 3))\n",
    "centers = kmeans.cluster_centers_.reshape(10, 8, 8)\n",
    "for axi, center in zip(ax.flat, centers):\n",
    "    axi.set(xticks=[], yticks=[])\n",
    "    axi.imshow(center, interpolation='nearest', cmap=plt.cm.binary)"
   ]
  },
  {
   "cell_type": "markdown",
   "metadata": {},
   "source": [
    "<img src='5-11-5.png'>"
   ]
  },
  {
   "cell_type": "markdown",
   "metadata": {},
   "source": [
    "从图中可以发现，即使没有标签，k-means也能找到可辨识的数字中心。但是1和8例外。同时由于k-means算法不知道簇的真实标签，因此0~9的数字不是顺序排列的。我们可以将学到的簇标签与真实的标签进行匹配，从而解决这个问题。"
   ]
  },
  {
   "cell_type": "code",
   "execution_count": 18,
   "metadata": {},
   "outputs": [],
   "source": [
    "from scipy.stats import  mode\n",
    "labels = np.zeros_like(clusters)\n",
    "for i in range(10):\n",
    "    mask = (clusters == i)\n",
    "    labels[mask] = mode(digits.target[mask])[0]#mode用来计算众数"
   ]
  },
  {
   "cell_type": "markdown",
   "metadata": {},
   "source": [
    "然后使用sklearn.metrics的accuracy_score()方法评估k-means识别手写数字的准确性。"
   ]
  },
  {
   "cell_type": "code",
   "execution_count": 19,
   "metadata": {},
   "outputs": [
    {
     "name": "stdout",
     "output_type": "stream",
     "text": [
      "0.7935447968836951\n"
     ]
    }
   ],
   "source": [
    "from sklearn.metrics import accuracy_score\n",
    "print(accuracy_score(digits.target, labels))"
   ]
  },
  {
   "cell_type": "markdown",
   "metadata": {},
   "source": [
    "画出混淆矩阵，直观地查看算法的不足之处。"
   ]
  },
  {
   "cell_type": "code",
   "execution_count": 20,
   "metadata": {},
   "outputs": [
    {
     "data": {
      "text/plain": [
       "Text(115.922,0.5,'Predicted Label')"
      ]
     },
     "execution_count": 20,
     "metadata": {},
     "output_type": "execute_result"
    }
   ],
   "source": [
    "from sklearn.metrics import confusion_matrix\n",
    "import seaborn as sns\n",
    "sns.set()\n",
    "\n",
    "mat = confusion_matrix(digits.target, labels)\n",
    "plt.subplots()\n",
    "sns.heatmap(mat.T, square=True, annot=True, fmt='d', cbar=False, xticklabels=digits.target_names,\n",
    "            yticklabels=digits.target_names)\n",
    "plt.xlabel(\"True Label\")\n",
    "plt.ylabel(\"Predicted Label\")"
   ]
  },
  {
   "cell_type": "markdown",
   "metadata": {},
   "source": [
    "<img src='5-11-6.png'>"
   ]
  },
  {
   "cell_type": "markdown",
   "metadata": {},
   "source": [
    "可以看出，混淆的地方主要是1和8，5也有轻量的混淆。可以看出，在不需要标签的情况下，k-means算法介意构成一个数字分类器。此外，我们可以引入t-SNE算法（t-分布邻域嵌入算法），该算法是一个非线性嵌入算法，十分适合保留簇中的数据点。"
   ]
  },
  {
   "cell_type": "code",
   "execution_count": 21,
   "metadata": {},
   "outputs": [
    {
     "name": "stdout",
     "output_type": "stream",
     "text": [
      "0.9371174179187535\n"
     ]
    }
   ],
   "source": [
    "from sklearn.manifold import TSNE\n",
    "#投影数据\n",
    "tsne = TSNE(n_components=2, init='pca', random_state=0)#n_components:嵌入的空间的维度；init：嵌入空间的初始化\n",
    "digits_projection = tsne.fit_transform(digits.data)\n",
    "\n",
    "#再使用k-means算法聚类\n",
    "kmeans = KMeans(n_clusters=10, random_state=0)\n",
    "clusters = kmeans.fit_predict(digits_projection)\n",
    "\n",
    "#再排列标签\n",
    "labels = np.zeros_like(clusters)\n",
    "for i in range(10):\n",
    "    mask = (clusters == i)\n",
    "    labels[mask] = mode(digits.target[mask])[0]\n",
    "\n",
    "#计算准确度\n",
    "print(accuracy_score(digits.target, labels))\n"
   ]
  },
  {
   "cell_type": "markdown",
   "metadata": {},
   "source": [
    "可以看出，同样在没有标签的情况下，此时的准确率达到了94%。"
   ]
  },
  {
   "cell_type": "markdown",
   "metadata": {},
   "source": [
    "### 3.电磁场数据分析与验证"
   ]
  },
  {
   "cell_type": "code",
   "execution_count": 86,
   "metadata": {},
   "outputs": [],
   "source": [
    "fpga_hy_data_n9030a = loadmat('FPGA/N9030_1Hy.mat')"
   ]
  },
  {
   "cell_type": "code",
   "execution_count": 87,
   "metadata": {},
   "outputs": [
    {
     "data": {
      "text/plain": [
       "dict_keys(['__header__', '__version__', '__globals__', 'YStrucTMP'])"
      ]
     },
     "execution_count": 87,
     "metadata": {},
     "output_type": "execute_result"
    }
   ],
   "source": [
    "fpga_hy_data_n9030a.keys()"
   ]
  },
  {
   "cell_type": "code",
   "execution_count": 88,
   "metadata": {},
   "outputs": [],
   "source": [
    "hy_n9030a = fpga_hy_data_n9030a['YStrucTMP']"
   ]
  },
  {
   "cell_type": "code",
   "execution_count": 89,
   "metadata": {},
   "outputs": [
    {
     "name": "stdout",
     "output_type": "stream",
     "text": [
      "(25600, 1001)\n",
      "-101145.53464781001\n"
     ]
    }
   ],
   "source": [
    "print(hy_n9030a.shape)\n",
    "print(hy_n9030a[0].sum())\n"
   ]
  },
  {
   "cell_type": "code",
   "execution_count": 90,
   "metadata": {},
   "outputs": [
    {
     "name": "stdout",
     "output_type": "stream",
     "text": [
      "['f1' 'f2' 'f3' ... 'f999' 'f1000' 'f1001']\n"
     ]
    }
   ],
   "source": [
    "hy_n9030a = pd.DataFrame(hy_n9030a)\n",
    "cols = []\n",
    "for i in hy_n9030a.columns.values:\n",
    "    cols.append('f' + str(i+1))\n",
    "hy_n9030a.columns =cols\n",
    "print(hy_n9030a.columns.values)\n",
    "\n"
   ]
  },
  {
   "cell_type": "code",
   "execution_count": 91,
   "metadata": {},
   "outputs": [
    {
     "data": {
      "text/plain": [
       "Text(0.5,1,'unshuffled data of N9030A')"
      ]
     },
     "execution_count": 91,
     "metadata": {},
     "output_type": "execute_result"
    }
   ],
   "source": [
    "hy_std_n9030a = []\n",
    "for i in hy_n9030a.columns.values:\n",
    "    hy_std_n9030a.append(hy_n9030a[i].std())\n",
    "\n",
    "hy_std_n9030a = pd.DataFrame(hy_std_n9030a)\n",
    "hy_std_n9030a.plot()\n",
    "plt.title('unshuffled data of N9030A')    "
   ]
  },
  {
   "cell_type": "code",
   "execution_count": 92,
   "metadata": {},
   "outputs": [],
   "source": [
    "fpga_hy_data = loadmat('FPGA/FreqHYFPGAtro.mat')"
   ]
  },
  {
   "cell_type": "code",
   "execution_count": 93,
   "metadata": {},
   "outputs": [
    {
     "data": {
      "text/plain": [
       "dict_keys(['__header__', '__version__', '__globals__', 'FreqMatrixExtractHY'])"
      ]
     },
     "execution_count": 93,
     "metadata": {},
     "output_type": "execute_result"
    }
   ],
   "source": [
    "fpga_hy_data.keys()"
   ]
  },
  {
   "cell_type": "code",
   "execution_count": 94,
   "metadata": {},
   "outputs": [],
   "source": [
    "hy = fpga_hy_data['FreqMatrixExtractHY']\n"
   ]
  },
  {
   "cell_type": "code",
   "execution_count": 95,
   "metadata": {},
   "outputs": [
    {
     "name": "stdout",
     "output_type": "stream",
     "text": [
      "(1001, 160, 160)\n",
      "-1040467.4403513799\n"
     ]
    }
   ],
   "source": [
    "print(hy.shape)\n",
    "print(hy[0].sum())"
   ]
  },
  {
   "cell_type": "code",
   "execution_count": 96,
   "metadata": {},
   "outputs": [
    {
     "data": {
      "text/plain": [
       "Text(0.5,1,'shuffled data of N9030A')"
      ]
     },
     "execution_count": 96,
     "metadata": {},
     "output_type": "execute_result"
    }
   ],
   "source": [
    "hy_std = []\n",
    "for i in range(len(hy)):\n",
    "    hy_std.append(hy[i].std())\n",
    "\n",
    "hy_std = pd.DataFrame(hy_std)\n",
    "hy_std.plot()\n",
    "plt.title('shuffled data of N9030A')"
   ]
  },
  {
   "cell_type": "code",
   "execution_count": 97,
   "metadata": {},
   "outputs": [],
   "source": [
    "FreqMatrixExtract = loadmat('FPGA/FreqEzFPGAtro.mat')\n",
    "\n"
   ]
  },
  {
   "cell_type": "code",
   "execution_count": 98,
   "metadata": {},
   "outputs": [
    {
     "name": "stdout",
     "output_type": "stream",
     "text": [
      "dict_keys(['__header__', '__version__', '__globals__', 'FreqMatrixExtractHY'])\n"
     ]
    }
   ],
   "source": [
    "print(FreqMatrixExtract.keys())\n",
    "FreqMatrixExtract = FreqMatrixExtract['FreqMatrixExtractHY']"
   ]
  },
  {
   "cell_type": "code",
   "execution_count": 99,
   "metadata": {},
   "outputs": [
    {
     "name": "stdout",
     "output_type": "stream",
     "text": [
      "(1001, 160, 160)\n"
     ]
    },
    {
     "data": {
      "text/plain": [
       "0.0237759175676074"
      ]
     },
     "execution_count": 99,
     "metadata": {},
     "output_type": "execute_result"
    }
   ],
   "source": [
    "print(FreqMatrixExtract.shape)\n",
    "freq1_data = FreqMatrixExtract[0]\n",
    "#print(freq1_data)\n",
    "freq1_data.std(axis=0).std()"
   ]
  },
  {
   "cell_type": "code",
   "execution_count": 208,
   "metadata": {},
   "outputs": [
    {
     "data": {
      "text/plain": [
       "array([-43.89454902, -43.89454902, -44.339358  , -44.339358  ,\n",
       "       -43.99094365])"
      ]
     },
     "execution_count": 208,
     "metadata": {},
     "output_type": "execute_result"
    }
   ],
   "source": [
    "FreqMatrixExtract[0][0,:][:5]"
   ]
  },
  {
   "cell_type": "code",
   "execution_count": 106,
   "metadata": {},
   "outputs": [
    {
     "name": "stdout",
     "output_type": "stream",
     "text": [
      "[   0.     1.2    2.4 ... 1197.6 1198.8 1200. ]\n"
     ]
    }
   ],
   "source": [
    "std_x = np.linspace(0,1200,1001)\n",
    "print(std_x)\n"
   ]
  },
  {
   "cell_type": "code",
   "execution_count": 123,
   "metadata": {
    "scrolled": false
   },
   "outputs": [
    {
     "data": {
      "text/plain": [
       "<Container object of 1001 artists>"
      ]
     },
     "execution_count": 123,
     "metadata": {},
     "output_type": "execute_result"
    }
   ],
   "source": [
    "freq1_data_std = []\n",
    "for i in range(len(FreqMatrixExtract)):\n",
    "    freq1_data_std.append(FreqMatrixExtract[i].std(axis=0).std())#先对行求std，所得的结果再求std\n",
    "#print(freq1_data_std)\n",
    "freq1_data_std = pd.DataFrame(freq1_data_std)\n",
    "\n",
    "\n",
    "freq1_data_std.index = std_x\n",
    "#print(freq1_data_std)\n",
    "freq1_data_std.plot()\n",
    "\n",
    "plt.subplots()\n",
    "plt.bar(std_x,freq1_data_std.values.flatten())\n"
   ]
  },
  {
   "cell_type": "code",
   "execution_count": 124,
   "metadata": {},
   "outputs": [
    {
     "name": "stdout",
     "output_type": "stream",
     "text": [
      "[0.02377592 0.21905074 0.08994633 ... 0.05702146 0.25777524 0.53199141]\n"
     ]
    }
   ],
   "source": [
    "print(freq1_data_std.values.flatten())"
   ]
  },
  {
   "cell_type": "code",
   "execution_count": 174,
   "metadata": {},
   "outputs": [
    {
     "data": {
      "text/html": [
       "<div>\n",
       "<style scoped>\n",
       "    .dataframe tbody tr th:only-of-type {\n",
       "        vertical-align: middle;\n",
       "    }\n",
       "\n",
       "    .dataframe tbody tr th {\n",
       "        vertical-align: top;\n",
       "    }\n",
       "\n",
       "    .dataframe thead th {\n",
       "        text-align: right;\n",
       "    }\n",
       "</style>\n",
       "<table border=\"1\" class=\"dataframe\">\n",
       "  <thead>\n",
       "    <tr style=\"text-align: right;\">\n",
       "      <th></th>\n",
       "      <th>0</th>\n",
       "    </tr>\n",
       "  </thead>\n",
       "  <tbody>\n",
       "    <tr>\n",
       "      <th>0.0</th>\n",
       "      <td>0.023776</td>\n",
       "    </tr>\n",
       "    <tr>\n",
       "      <th>1.2</th>\n",
       "      <td>0.219051</td>\n",
       "    </tr>\n",
       "    <tr>\n",
       "      <th>2.4</th>\n",
       "      <td>0.089946</td>\n",
       "    </tr>\n",
       "    <tr>\n",
       "      <th>3.6</th>\n",
       "      <td>0.195654</td>\n",
       "    </tr>\n",
       "    <tr>\n",
       "      <th>4.8</th>\n",
       "      <td>0.061209</td>\n",
       "    </tr>\n",
       "    <tr>\n",
       "      <th>6.0</th>\n",
       "      <td>0.232395</td>\n",
       "    </tr>\n",
       "    <tr>\n",
       "      <th>7.2</th>\n",
       "      <td>0.107463</td>\n",
       "    </tr>\n",
       "    <tr>\n",
       "      <th>8.4</th>\n",
       "      <td>0.226238</td>\n",
       "    </tr>\n",
       "    <tr>\n",
       "      <th>9.6</th>\n",
       "      <td>0.077044</td>\n",
       "    </tr>\n",
       "    <tr>\n",
       "      <th>10.8</th>\n",
       "      <td>0.207003</td>\n",
       "    </tr>\n",
       "    <tr>\n",
       "      <th>12.0</th>\n",
       "      <td>0.062888</td>\n",
       "    </tr>\n",
       "    <tr>\n",
       "      <th>13.2</th>\n",
       "      <td>0.243771</td>\n",
       "    </tr>\n",
       "    <tr>\n",
       "      <th>14.4</th>\n",
       "      <td>0.143535</td>\n",
       "    </tr>\n",
       "    <tr>\n",
       "      <th>15.6</th>\n",
       "      <td>0.208904</td>\n",
       "    </tr>\n",
       "    <tr>\n",
       "      <th>16.8</th>\n",
       "      <td>0.069883</td>\n",
       "    </tr>\n",
       "    <tr>\n",
       "      <th>18.0</th>\n",
       "      <td>0.223333</td>\n",
       "    </tr>\n",
       "    <tr>\n",
       "      <th>19.2</th>\n",
       "      <td>0.058234</td>\n",
       "    </tr>\n",
       "    <tr>\n",
       "      <th>20.4</th>\n",
       "      <td>0.186894</td>\n",
       "    </tr>\n",
       "    <tr>\n",
       "      <th>21.6</th>\n",
       "      <td>0.157063</td>\n",
       "    </tr>\n",
       "    <tr>\n",
       "      <th>22.8</th>\n",
       "      <td>0.188482</td>\n",
       "    </tr>\n",
       "    <tr>\n",
       "      <th>24.0</th>\n",
       "      <td>0.068580</td>\n",
       "    </tr>\n",
       "    <tr>\n",
       "      <th>25.2</th>\n",
       "      <td>0.230049</td>\n",
       "    </tr>\n",
       "    <tr>\n",
       "      <th>26.4</th>\n",
       "      <td>0.146119</td>\n",
       "    </tr>\n",
       "    <tr>\n",
       "      <th>27.6</th>\n",
       "      <td>0.212680</td>\n",
       "    </tr>\n",
       "    <tr>\n",
       "      <th>28.8</th>\n",
       "      <td>0.054851</td>\n",
       "    </tr>\n",
       "    <tr>\n",
       "      <th>30.0</th>\n",
       "      <td>0.215191</td>\n",
       "    </tr>\n",
       "    <tr>\n",
       "      <th>31.2</th>\n",
       "      <td>0.053122</td>\n",
       "    </tr>\n",
       "    <tr>\n",
       "      <th>32.4</th>\n",
       "      <td>0.203645</td>\n",
       "    </tr>\n",
       "    <tr>\n",
       "      <th>33.6</th>\n",
       "      <td>0.117504</td>\n",
       "    </tr>\n",
       "    <tr>\n",
       "      <th>34.8</th>\n",
       "      <td>0.204770</td>\n",
       "    </tr>\n",
       "    <tr>\n",
       "      <th>...</th>\n",
       "      <td>...</td>\n",
       "    </tr>\n",
       "    <tr>\n",
       "      <th>1165.2</th>\n",
       "      <td>0.197563</td>\n",
       "    </tr>\n",
       "    <tr>\n",
       "      <th>1166.4</th>\n",
       "      <td>0.053161</td>\n",
       "    </tr>\n",
       "    <tr>\n",
       "      <th>1167.6</th>\n",
       "      <td>0.206206</td>\n",
       "    </tr>\n",
       "    <tr>\n",
       "      <th>1168.8</th>\n",
       "      <td>0.056269</td>\n",
       "    </tr>\n",
       "    <tr>\n",
       "      <th>1170.0</th>\n",
       "      <td>0.234440</td>\n",
       "    </tr>\n",
       "    <tr>\n",
       "      <th>1171.2</th>\n",
       "      <td>0.053033</td>\n",
       "    </tr>\n",
       "    <tr>\n",
       "      <th>1172.4</th>\n",
       "      <td>0.216632</td>\n",
       "    </tr>\n",
       "    <tr>\n",
       "      <th>1173.6</th>\n",
       "      <td>0.060890</td>\n",
       "    </tr>\n",
       "    <tr>\n",
       "      <th>1174.8</th>\n",
       "      <td>0.211054</td>\n",
       "    </tr>\n",
       "    <tr>\n",
       "      <th>1176.0</th>\n",
       "      <td>0.055328</td>\n",
       "    </tr>\n",
       "    <tr>\n",
       "      <th>1177.2</th>\n",
       "      <td>0.229669</td>\n",
       "    </tr>\n",
       "    <tr>\n",
       "      <th>1178.4</th>\n",
       "      <td>0.052745</td>\n",
       "    </tr>\n",
       "    <tr>\n",
       "      <th>1179.6</th>\n",
       "      <td>0.199516</td>\n",
       "    </tr>\n",
       "    <tr>\n",
       "      <th>1180.8</th>\n",
       "      <td>0.063531</td>\n",
       "    </tr>\n",
       "    <tr>\n",
       "      <th>1182.0</th>\n",
       "      <td>0.228999</td>\n",
       "    </tr>\n",
       "    <tr>\n",
       "      <th>1183.2</th>\n",
       "      <td>0.058602</td>\n",
       "    </tr>\n",
       "    <tr>\n",
       "      <th>1184.4</th>\n",
       "      <td>0.194195</td>\n",
       "    </tr>\n",
       "    <tr>\n",
       "      <th>1185.6</th>\n",
       "      <td>0.052512</td>\n",
       "    </tr>\n",
       "    <tr>\n",
       "      <th>1186.8</th>\n",
       "      <td>0.230541</td>\n",
       "    </tr>\n",
       "    <tr>\n",
       "      <th>1188.0</th>\n",
       "      <td>0.058611</td>\n",
       "    </tr>\n",
       "    <tr>\n",
       "      <th>1189.2</th>\n",
       "      <td>0.213838</td>\n",
       "    </tr>\n",
       "    <tr>\n",
       "      <th>1190.4</th>\n",
       "      <td>0.052587</td>\n",
       "    </tr>\n",
       "    <tr>\n",
       "      <th>1191.6</th>\n",
       "      <td>0.207060</td>\n",
       "    </tr>\n",
       "    <tr>\n",
       "      <th>1192.8</th>\n",
       "      <td>0.054653</td>\n",
       "    </tr>\n",
       "    <tr>\n",
       "      <th>1194.0</th>\n",
       "      <td>0.221948</td>\n",
       "    </tr>\n",
       "    <tr>\n",
       "      <th>1195.2</th>\n",
       "      <td>0.060996</td>\n",
       "    </tr>\n",
       "    <tr>\n",
       "      <th>1196.4</th>\n",
       "      <td>0.184177</td>\n",
       "    </tr>\n",
       "    <tr>\n",
       "      <th>1197.6</th>\n",
       "      <td>0.057021</td>\n",
       "    </tr>\n",
       "    <tr>\n",
       "      <th>1198.8</th>\n",
       "      <td>0.257775</td>\n",
       "    </tr>\n",
       "    <tr>\n",
       "      <th>1200.0</th>\n",
       "      <td>0.531991</td>\n",
       "    </tr>\n",
       "  </tbody>\n",
       "</table>\n",
       "<p>1001 rows × 1 columns</p>\n",
       "</div>"
      ],
      "text/plain": [
       "               0\n",
       "0.0     0.023776\n",
       "1.2     0.219051\n",
       "2.4     0.089946\n",
       "3.6     0.195654\n",
       "4.8     0.061209\n",
       "6.0     0.232395\n",
       "7.2     0.107463\n",
       "8.4     0.226238\n",
       "9.6     0.077044\n",
       "10.8    0.207003\n",
       "12.0    0.062888\n",
       "13.2    0.243771\n",
       "14.4    0.143535\n",
       "15.6    0.208904\n",
       "16.8    0.069883\n",
       "18.0    0.223333\n",
       "19.2    0.058234\n",
       "20.4    0.186894\n",
       "21.6    0.157063\n",
       "22.8    0.188482\n",
       "24.0    0.068580\n",
       "25.2    0.230049\n",
       "26.4    0.146119\n",
       "27.6    0.212680\n",
       "28.8    0.054851\n",
       "30.0    0.215191\n",
       "31.2    0.053122\n",
       "32.4    0.203645\n",
       "33.6    0.117504\n",
       "34.8    0.204770\n",
       "...          ...\n",
       "1165.2  0.197563\n",
       "1166.4  0.053161\n",
       "1167.6  0.206206\n",
       "1168.8  0.056269\n",
       "1170.0  0.234440\n",
       "1171.2  0.053033\n",
       "1172.4  0.216632\n",
       "1173.6  0.060890\n",
       "1174.8  0.211054\n",
       "1176.0  0.055328\n",
       "1177.2  0.229669\n",
       "1178.4  0.052745\n",
       "1179.6  0.199516\n",
       "1180.8  0.063531\n",
       "1182.0  0.228999\n",
       "1183.2  0.058602\n",
       "1184.4  0.194195\n",
       "1185.6  0.052512\n",
       "1186.8  0.230541\n",
       "1188.0  0.058611\n",
       "1189.2  0.213838\n",
       "1190.4  0.052587\n",
       "1191.6  0.207060\n",
       "1192.8  0.054653\n",
       "1194.0  0.221948\n",
       "1195.2  0.060996\n",
       "1196.4  0.184177\n",
       "1197.6  0.057021\n",
       "1198.8  0.257775\n",
       "1200.0  0.531991\n",
       "\n",
       "[1001 rows x 1 columns]"
      ]
     },
     "execution_count": 174,
     "metadata": {},
     "output_type": "execute_result"
    }
   ],
   "source": [
    "freq1_data_std"
   ]
  },
  {
   "cell_type": "markdown",
   "metadata": {},
   "source": [
    "<img src=\"5-11-7.png\">"
   ]
  },
  {
   "cell_type": "markdown",
   "metadata": {},
   "source": [
    "（1）对N9030_1Ez的原始数据进行重排验证"
   ]
  },
  {
   "cell_type": "code",
   "execution_count": 138,
   "metadata": {},
   "outputs": [],
   "source": [
    "ez_fpga = loadmat('N9030_1Ez.mat')"
   ]
  },
  {
   "cell_type": "code",
   "execution_count": 141,
   "metadata": {},
   "outputs": [],
   "source": [
    "ez_fpga_data = ez_fpga['ZStrucTMP']"
   ]
  },
  {
   "cell_type": "code",
   "execution_count": 142,
   "metadata": {},
   "outputs": [
    {
     "data": {
      "text/plain": [
       "array([-41.74544771, -41.49575077, -41.49226662, ..., -39.21595956,\n",
       "       -39.16485879, -39.20550713])"
      ]
     },
     "execution_count": 142,
     "metadata": {},
     "output_type": "execute_result"
    }
   ],
   "source": [
    "ez_fpga_data[:,0]"
   ]
  },
  {
   "cell_type": "code",
   "execution_count": 210,
   "metadata": {},
   "outputs": [
    {
     "data": {
      "text/plain": [
       "numpy.ndarray"
      ]
     },
     "execution_count": 210,
     "metadata": {},
     "output_type": "execute_result"
    }
   ],
   "source": [
    "type(ez_fpga_data)\n"
   ]
  },
  {
   "cell_type": "code",
   "execution_count": 184,
   "metadata": {},
   "outputs": [],
   "source": [
    "ind = np.arange(160,25600,160)\n"
   ]
  },
  {
   "cell_type": "code",
   "execution_count": 185,
   "metadata": {},
   "outputs": [
    {
     "data": {
      "text/plain": [
       "array([-41.74544771, -41.49575077, -41.49226662, ..., -39.21595956,\n",
       "       -39.16485879, -39.20550713])"
      ]
     },
     "execution_count": 185,
     "metadata": {},
     "output_type": "execute_result"
    }
   ],
   "source": [
    "ez_fpga_data[:,0]"
   ]
  },
  {
   "cell_type": "code",
   "execution_count": 234,
   "metadata": {},
   "outputs": [],
   "source": [
    "ez_arr = np.zeros_like(FreqMatrixExtract)\n",
    "for col in range(ez_fpga_data.shape[1]):\n",
    "    arr_list = np.hsplit(ez_fpga_data[:,col],ind)\n",
    "    for i in range(len(arr_list)):\n",
    "        if i % 2 != 0:\n",
    "            arr_list[i] = arr_list[i][::-1]\n",
    "    ez_arr[col] = np.array(arr_list)\n"
   ]
  },
  {
   "cell_type": "code",
   "execution_count": 239,
   "metadata": {},
   "outputs": [
    {
     "data": {
      "text/plain": [
       "<Container object of 1001 artists>"
      ]
     },
     "execution_count": 239,
     "metadata": {},
     "output_type": "execute_result"
    }
   ],
   "source": [
    "#print(ez_arr.shape)\n",
    "#print(ez_arr[0])\n",
    "std_x = np.linspace(0,1200,1001)\n",
    "ez_arr_std = []\n",
    "for i in range(len(ez_arr)):\n",
    "    ez_arr_std.append(ez_arr[i].std(axis=0).std())#先对行求std，所得的结果再求std\n",
    "#print(freq1_data_std)\n",
    "ez_arr_std = pd.DataFrame(ez_arr_std)\n",
    "\n",
    "\n",
    "ez_arr_std.index = std_x\n",
    "#print(freq1_data_std)\n",
    "ez_arr_std.plot()\n",
    "#print(ez_arr_std[:11],'\\n\\n')\n",
    "plt.subplots()\n",
    "plt.bar(std_x,ez_arr_std.values.ravel())\n",
    "#print(ez_arr_std.values.ravel()[:10],'\\n\\n')"
   ]
  },
  {
   "cell_type": "code",
   "execution_count": 241,
   "metadata": {},
   "outputs": [
    {
     "data": {
      "text/plain": [
       "8"
      ]
     },
     "execution_count": 241,
     "metadata": {},
     "output_type": "execute_result"
    }
   ],
   "source": [
    "len(ez_arr_std[ez_arr_std>=0.5].dropna())"
   ]
  },
  {
   "cell_type": "code",
   "execution_count": 200,
   "metadata": {},
   "outputs": [
    {
     "data": {
      "text/plain": [
       "array([-41.51549425, -41.51433286, -41.79074158, -41.76286843,\n",
       "       -41.55614259])"
      ]
     },
     "execution_count": 200,
     "metadata": {},
     "output_type": "execute_result"
    }
   ],
   "source": [
    "for i in range(len(arr_list)):\n",
    "    \n",
    "    if i % 2 != 0:\n",
    "        arr_list[i] = arr_list[i][::-1]\n",
    "arr_list[0][-5:]        "
   ]
  },
  {
   "cell_type": "code",
   "execution_count": 201,
   "metadata": {},
   "outputs": [
    {
     "data": {
      "text/plain": [
       "(160, 160)"
      ]
     },
     "execution_count": 201,
     "metadata": {},
     "output_type": "execute_result"
    }
   ],
   "source": [
    "arr_df = pd.DataFrame(arr_list)\n",
    "arr_df.shape"
   ]
  },
  {
   "cell_type": "code",
   "execution_count": 202,
   "metadata": {},
   "outputs": [
    {
     "data": {
      "text/plain": [
       "0.018437944980989173"
      ]
     },
     "execution_count": 202,
     "metadata": {},
     "output_type": "execute_result"
    }
   ],
   "source": [
    "arr_df.std(axis=1).std()"
   ]
  },
  {
   "cell_type": "code",
   "execution_count": null,
   "metadata": {},
   "outputs": [],
   "source": []
  }
 ],
 "metadata": {
  "kernelspec": {
   "display_name": "Python 3",
   "language": "python",
   "name": "python3"
  },
  "language_info": {
   "codemirror_mode": {
    "name": "ipython",
    "version": 3
   },
   "file_extension": ".py",
   "mimetype": "text/x-python",
   "name": "python",
   "nbconvert_exporter": "python",
   "pygments_lexer": "ipython3",
   "version": "3.6.7"
  }
 },
 "nbformat": 4,
 "nbformat_minor": 2
}
