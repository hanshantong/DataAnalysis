{
 "cells": [
  {
   "cell_type": "markdown",
   "metadata": {},
   "source": [
    "这是一个wxpython的简单学习笔记，使用的Python的环境是Anaconda3-Python3.6，使用的wxpython版本是4.0.4."
   ]
  },
  {
   "cell_type": "markdown",
   "metadata": {},
   "source": [
    "### Ubuntu18.04下安装wxPython的方法"
   ]
  },
  {
   "cell_type": "markdown",
   "metadata": {},
   "source": [
    ">在终端输入: pip install -U \\ <br>\n",
    "-f https://extras.wxpython.org/wxPython4/extras/linux/gtk3/ubuntu-18.04 \\ <br>\n",
    "wxPython"
   ]
  },
  {
   "cell_type": "code",
   "execution_count": 1,
   "metadata": {},
   "outputs": [],
   "source": [
    "# -*- coding: utf-8 -*-\n",
    "import wx"
   ]
  },
  {
   "cell_type": "code",
   "execution_count": 11,
   "metadata": {},
   "outputs": [],
   "source": [
    "class MyApp(wx.App):#继承自wx.App\n",
    "    def OnInit(self):#重写OnInit方法，该方法在MainLoop()方法进入消息循环后自动调用\n",
    "        wx.MessageBox('Hello wxPython', \"wxApp\")\n",
    "        return True#为了让MainLoop()方法完成初始化，此处必须返回True"
   ]
  },
  {
   "cell_type": "code",
   "execution_count": 13,
   "metadata": {},
   "outputs": [
    {
     "data": {
      "text/plain": [
       "0"
      ]
     },
     "execution_count": 13,
     "metadata": {},
     "output_type": "execute_result"
    }
   ],
   "source": [
    "app = MyApp(False, useBestVisual=True)\n",
    "app.MainLoop()"
   ]
  },
  {
   "cell_type": "markdown",
   "metadata": {},
   "source": [
    "通常wx.App有四个参数：\n",
    "wx.App(redirect=False, filename=None, useBestVisual=False,clearSigInt=True)\n",
    "这四个参数的含义如下：<br>\n",
    "**redirect**: If set to True, stdout is redirected to a debug window.<br>\n",
    "**filename**: If redirect is True and this is not None, the stdout can be redirected to a file name specified by this argument.<br>\n",
    "**useBestVisual**:This specifies whether the application should try to use the best visuals provided by the underlying tookit.<br>\n",
    "**clearSigInt**:Setting this to True will allow the window to be terminated by pressing Ctrl+C from the command line.<br>"
   ]
  },
  {
   "cell_type": "markdown",
   "metadata": {},
   "source": [
    "在wxPython中窗口叫做Frame，它是和用户进行交互的窗口，它是所有其他控件的顶层容器。创建窗口的代码如下："
   ]
  },
  {
   "cell_type": "code",
   "execution_count": 17,
   "metadata": {},
   "outputs": [],
   "source": [
    "class MyFrame(wx.Frame):\n",
    "    def __init__(self, parent, title=\"\"):\n",
    "        super(MyFrame, self).__init__(parent, title=title)\n",
    "        \n",
    "        #Set an application icon\n",
    "        self.SetIcon(wx.Icon(\"dog.jpg\"))\n",
    "        \n",
    "        #Set a Panel\n",
    "        self.panel = wx.Panel(self)\n",
    "        "
   ]
  },
  {
   "cell_type": "code",
   "execution_count": 18,
   "metadata": {},
   "outputs": [],
   "source": [
    "class MyApp(wx.App):#继承自wx.App\n",
    "    def OnInit(self):#重写OnInit方法，该方法在MainLoop()方法进入消息循环后自动调用\n",
    "        self.frame = MyFrame(None, title=\"Main Frame\")\n",
    "        self.frame.Show()\n",
    "        return True#为了让MainLoop()方法完成初始化，此处必须返回True"
   ]
  },
  {
   "cell_type": "code",
   "execution_count": null,
   "metadata": {},
   "outputs": [],
   "source": [
    "app = MyApp(False, useBestVisual=True)\n",
    "app.MainLoop()"
   ]
  },
  {
   "cell_type": "code",
   "execution_count": null,
   "metadata": {},
   "outputs": [],
   "source": [
    "print(\"test\")"
   ]
  },
  {
   "cell_type": "code",
   "execution_count": null,
   "metadata": {},
   "outputs": [],
   "source": []
  }
 ],
 "metadata": {
  "kernelspec": {
   "display_name": "Python 3",
   "language": "python",
   "name": "python3"
  },
  "language_info": {
   "codemirror_mode": {
    "name": "ipython",
    "version": 3
   },
   "file_extension": ".py",
   "mimetype": "text/x-python",
   "name": "python",
   "nbconvert_exporter": "python",
   "pygments_lexer": "ipython3",
   "version": "3.6.8"
  }
 },
 "nbformat": 4,
 "nbformat_minor": 2
}
